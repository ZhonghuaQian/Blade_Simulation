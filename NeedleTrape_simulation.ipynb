{
 "cells": [
  {
   "cell_type": "markdown",
   "metadata": {},
   "source": [
    "# Solving a Laplace problem with Dirichlet boundary conditions"
   ]
  },
  {
   "cell_type": "markdown",
   "metadata": {},
   "source": [
    "### 利用Dirichlet 边界条件计算离子阱电势"
   ]
  },
  {
   "cell_type": "markdown",
   "metadata": {},
   "source": [
    "步骤：\n",
    "* 利用Gmsh制作电极排布，并划分2D网格，生成.msh文件。\n",
    "  - 利用.geo脚本生成电极，注意需要用 physcial surface 标记不同电极的域    \n",
    "    参考untitled.geo\n",
    "* 导入msh文件，执行计算\n"
   ]
  },
  {
   "cell_type": "markdown",
   "metadata": {},
   "source": [
    "### Implementation"
   ]
  },
  {
   "cell_type": "markdown",
   "metadata": {},
   "source": [
    "We now demonstrate how to solve this problem with Bempp. We begin by importing Bempp and NumPy."
   ]
  },
  {
   "cell_type": "code",
   "execution_count": 1,
   "metadata": {
    "collapsed": true
   },
   "outputs": [],
   "source": [
    "import bempp.api\n",
    "import numpy as np"
   ]
  },
  {
   "cell_type": "markdown",
   "metadata": {},
   "source": [
    "### Import the generated mesh"
   ]
  },
  {
   "cell_type": "code",
   "execution_count": 2,
   "metadata": {
    "collapsed": true
   },
   "outputs": [],
   "source": [
    "#grid = bempp.api.shapes.sphere(h=0.1)\n",
    "grid = bempp.api.import_grid('needles2.msh')"
   ]
  },
  {
   "cell_type": "markdown",
   "metadata": {},
   "source": [
    "We now define the <a href='https://bempp.com/2017/07/11/function-spaces/'>spaces</a>. For this example we will use two spaces: the space of continuous, piecewise linear functions; and the space of piecewise constant functions. The space of piecewise constant functions has the right smoothness for the unknown Neumann data. We will use continuous, piecewise linear functions to represent the known Dirichlet data."
   ]
  },
  {
   "cell_type": "code",
   "execution_count": 3,
   "metadata": {
    "collapsed": true
   },
   "outputs": [],
   "source": [
    "dp0_space = bempp.api.function_space(grid, \"DP\", 0)\n",
    "p1_space = bempp.api.function_space(grid, \"P\", 1)"
   ]
  },
  {
   "cell_type": "markdown",
   "metadata": {},
   "source": [
    "We can now define the <a href='https://bempp.com/2017/07/11/operators/'>operators</a>. We need the identity, single layer, and double layer boundary operator."
   ]
  },
  {
   "cell_type": "code",
   "execution_count": 4,
   "metadata": {
    "collapsed": true
   },
   "outputs": [],
   "source": [
    "identity = bempp.api.operators.boundary.sparse.identity(\n",
    "    p1_space, p1_space, dp0_space)\n",
    "dlp = bempp.api.operators.boundary.laplace.double_layer(\n",
    "    p1_space, p1_space, dp0_space)\n",
    "slp = bempp.api.operators.boundary.laplace.single_layer(\n",
    "    dp0_space, p1_space, dp0_space)"
   ]
  },
  {
   "cell_type": "markdown",
   "metadata": {},
   "source": [
    "We now define the <a href='https://bempp.com/2017/07/11/grid-functions/'>GridFunction object</a> on the sphere grid that represents the Dirichlet data."
   ]
  },
  {
   "cell_type": "code",
   "execution_count": 5,
   "metadata": {},
   "outputs": [
    {
     "name": "stdout",
     "output_type": "stream",
     "text": [
      "11946\n"
     ]
    }
   ],
   "source": [
    "i =0\n",
    "def dirichlet_data(x, n, domain_index, result):\n",
    "#     print(domain_index)\n",
    "#     result[0] = 1./(4 * np.pi * ((x[0] - 1.5)**2 + x[1]**2 + x[2]**2)**(0.5))\n",
    "    global i\n",
    "    if domain_index in [1,2]:      # 在不同区域设置相应的电压\n",
    "        result[0] = 300.0\n",
    "        i+=1\n",
    "#         print(domain_index)\n",
    "    elif domain_index in [3,4,5,6]:\n",
    "        result[0] = 0.0\n",
    "    else:\n",
    "        result[0] = 0.0\n",
    "    \n",
    "dirichlet_fun = bempp.api.GridFunction(p1_space, fun=dirichlet_data)\n",
    "print i"
   ]
  },
  {
   "cell_type": "markdown",
   "metadata": {},
   "source": [
    "We next assemble the right-hand side of the boundary integral equation, given by $$(-\\tfrac12\\mathsf{Id}+\\mathsf{K})u.$$"
   ]
  },
  {
   "cell_type": "code",
   "execution_count": 6,
   "metadata": {},
   "outputs": [
    {
     "name": "stdout",
     "output_type": "stream",
     "text": [
      "CPU times: user 1min 42s, sys: 640 ms, total: 1min 43s\n",
      "Wall time: 1min 18s\n"
     ]
    }
   ],
   "source": [
    "%time rhs = (-.5 * identity + dlp) * dirichlet_fun  # solve exterior\n",
    "# rhs = (.5 * identity + dlp) * dirichlet_fun  # solve interior"
   ]
  },
  {
   "cell_type": "markdown",
   "metadata": {},
   "source": [
    "We now <a href='https://bempp.com/2017/07/12/solving-linear-systems/'>solve the linear system</a> using a conjugate gradient (CG) method."
   ]
  },
  {
   "cell_type": "code",
   "execution_count": 7,
   "metadata": {},
   "outputs": [
    {
     "name": "stdout",
     "output_type": "stream",
     "text": [
      "CPU times: user 46.3 s, sys: 1.04 s, total: 47.4 s\n",
      "Wall time: 35.2 s\n"
     ]
    }
   ],
   "source": [
    "%time neumann_fun, info = bempp.api.linalg.gmres(slp, rhs, tol=1E-3)"
   ]
  },
  {
   "cell_type": "markdown",
   "metadata": {},
   "source": [
    "We now want to provide a simple plot of the solution in the $(x,y)$ plane for $z=0$. We first define points at which to plot the solution."
   ]
  },
  {
   "cell_type": "code",
   "execution_count": 11,
   "metadata": {
    "collapsed": true
   },
   "outputs": [],
   "source": [
    "n_grid_points = 150\n",
    "plot_grid = np.mgrid[-200:200:n_grid_points*1j, -200:200:n_grid_points*1j]\n",
    "points = np.vstack((plot_grid[0].ravel(),\n",
    "                    plot_grid[1].ravel(),\n",
    "                    np.zeros(plot_grid[0].size)))"
   ]
  },
  {
   "cell_type": "markdown",
   "metadata": {},
   "source": [
    "The variable `points` now contains in its columns the coordinates of the evaluation points. We can now use Green's representation theorem to evaluate the solution on these points. Note in particular the last line of the following code. It is a direct implementation of Green's representation theorem."
   ]
  },
  {
   "cell_type": "code",
   "execution_count": 12,
   "metadata": {},
   "outputs": [
    {
     "name": "stdout",
     "output_type": "stream",
     "text": [
      "CPU times: user 1min 22s, sys: 640 ms, total: 1min 23s\n",
      "Wall time: 1min 1s\n"
     ]
    }
   ],
   "source": [
    "%%time\n",
    "slp_pot = bempp.api.operators.potential.laplace.single_layer(\n",
    "    dp0_space, points)\n",
    "dlp_pot = bempp.api.operators.potential.laplace.double_layer(\n",
    "    p1_space, points)\n",
    "u_evaluated = slp_pot * neumann_fun - dlp_pot * dirichlet_fun\n"
   ]
  },
  {
   "cell_type": "markdown",
   "metadata": {},
   "source": [
    "We now plot the 2D slice of the solution. For a full three dimensional visualization, Bempp can <a href='https://bempp.com/2017/07/12/import-and-export-of-gmsh-files/'>export the data to Gmsh</a>. Since the solution decays quickly, we use a logarithmic plot."
   ]
  },
  {
   "cell_type": "code",
   "execution_count": 13,
   "metadata": {},
   "outputs": [
    {
     "data": {
      "text/plain": [
       "<matplotlib.colorbar.Colorbar at 0x7f200fdb9b50>"
      ]
     },
     "execution_count": 13,
     "metadata": {},
     "output_type": "execute_result"
    },
    {
     "data": {
      "image/png": "[encoded data removed]",
      "text/plain": [
       "<matplotlib.figure.Figure at 0x7f203017bd90>"
      ]
     },
     "metadata": {},
     "output_type": "display_data"
    }
   ],
   "source": [
    "# The next command ensures that plots are shown within the IPython notebook\n",
    "%matplotlib inline\n",
    "\n",
    "import matplotlib\n",
    "from matplotlib import pylab as plt\n",
    "# import seaborn as sns\n",
    "\n",
    "\n",
    "# Filter out solution values that are associated with points outside the unit circle.\n",
    "u_evaluated = u_evaluated.reshape((n_grid_points,n_grid_points))\n",
    "radius = np.sqrt(plot_grid[0]**2 + plot_grid[1]**2)\n",
    "#u_evaluated[radius>1] = np.nan\n",
    "\n",
    "# Plot the image\n",
    "\n",
    "plt.figure(figsize=(10,6))\n",
    "# cmap = sns.diverging_palette(220, 20, n=7,as_cmap=True)\n",
    "# data = u_evaluated[n_grid_points/2-4:n_grid_points/2+40,n_grid_points/2-40:n_grid_points/2+40]\n",
    "data = u_evaluated.T\n",
    "plt.imshow(data,aspect=1.0)\n",
    "plt.title('Computed solution')\n",
    "plt.colorbar()"
   ]
  },
  {
   "cell_type": "code",
   "execution_count": 55,
   "metadata": {
    "collapsed": true
   },
   "outputs": [],
   "source": [
    "# bempp.api.export(grid=grid, file_name=\"sphere.msh\")"
   ]
  },
  {
   "cell_type": "code",
   "execution_count": 15,
   "metadata": {},
   "outputs": [
    {
     "ename": "NameError",
     "evalue": "name 'opts' is not defined",
     "output_type": "error",
     "traceback": [
      "\u001b[0;31m---------------------------------------------------------------------------\u001b[0m",
      "\u001b[0;31mNameError\u001b[0m                                 Traceback (most recent call last)",
      "\u001b[0;32m<ipython-input-15-aecf3e3ae717>\u001b[0m in \u001b[0;36m<module>\u001b[0;34m()\u001b[0m\n\u001b[1;32m      6\u001b[0m \u001b[0mopts1\u001b[0m \u001b[0;34m=\u001b[0m \u001b[0mnp\u001b[0m\u001b[0;34m.\u001b[0m\u001b[0mpolyfit\u001b[0m\u001b[0;34m(\u001b[0m\u001b[0mx\u001b[0m\u001b[0;34m,\u001b[0m\u001b[0mdata\u001b[0m\u001b[0;34m[\u001b[0m\u001b[0;34m:\u001b[0m\u001b[0;36m10\u001b[0m\u001b[0;34m]\u001b[0m\u001b[0;34m,\u001b[0m\u001b[0;36m2\u001b[0m\u001b[0;34m)\u001b[0m\u001b[0;34m\u001b[0m\u001b[0m\n\u001b[1;32m      7\u001b[0m \u001b[0mopts2\u001b[0m \u001b[0;34m=\u001b[0m \u001b[0mnp\u001b[0m\u001b[0;34m.\u001b[0m\u001b[0mpolyfit\u001b[0m\u001b[0;34m(\u001b[0m\u001b[0mx\u001b[0m\u001b[0;34m,\u001b[0m\u001b[0mdata\u001b[0m\u001b[0;34m[\u001b[0m\u001b[0;36m10\u001b[0m\u001b[0;34m:\u001b[0m\u001b[0;34m]\u001b[0m\u001b[0;34m,\u001b[0m\u001b[0;36m2\u001b[0m\u001b[0;34m)\u001b[0m\u001b[0;34m\u001b[0m\u001b[0m\n\u001b[0;32m----> 8\u001b[0;31m \u001b[0;32mprint\u001b[0m\u001b[0;34m(\u001b[0m\u001b[0mopts\u001b[0m\u001b[0;34m[\u001b[0m\u001b[0;36m1\u001b[0m\u001b[0;34m]\u001b[0m\u001b[0;34m/\u001b[0m\u001b[0mopts\u001b[0m\u001b[0;34m[\u001b[0m\u001b[0;36m2\u001b[0m\u001b[0;34m]\u001b[0m\u001b[0;34m,\u001b[0m\u001b[0mopts1\u001b[0m\u001b[0;34m,\u001b[0m \u001b[0mopts2\u001b[0m\u001b[0;34m)\u001b[0m \u001b[0;31m# 3阶与二阶的比值\u001b[0m\u001b[0;34m\u001b[0m\u001b[0m\n\u001b[0m",
      "\u001b[0;31mNameError\u001b[0m: name 'opts' is not defined"
     ]
    },
    {
     "data": {
      "image/png": "[encoded data removed]",
      "text/plain": [
       "<matplotlib.figure.Figure at 0x7fdf0b411810>"
      ]
     },
     "metadata": {},
     "output_type": "display_data"
    }
   ],
   "source": [
    "# import seaborn as sns\n",
    "data = u_evaluated.T[n_grid_points/2,n_grid_points/2-10:n_grid_points/2+10]\n",
    "plt.plot(data,'ro')\n",
    "\n",
    "x = np.arange(len(data)/2)\n",
    "opts1 = np.polyfit(x,data[:10],2)\n",
    "opts2 = np.polyfit(x,data[10:],2)\n",
    "print(opts[1]/opts[2],opts1, opts2) # 3阶与二阶的比值"
   ]
  },
  {
   "cell_type": "code",
   "execution_count": 57,
   "metadata": {},
   "outputs": [
    {
     "name": "stdout",
     "output_type": "stream",
     "text": [
      "(-0.0010848969262069546, array([  1.14293842e-07,  -1.42299437e-06,   1.31164016e-03,\n",
      "        -2.48929575e-02,  -1.43462780e+02]))\n"
     ]
    },
    {
     "data": {
      "image/png": "[encoded data removed]",
      "text/plain": [
       "<matplotlib.figure.Figure at 0x7fe4ec49e310>"
      ]
     },
     "metadata": {},
     "output_type": "display_data"
    }
   ],
   "source": [
    "import seaborn as sns\n",
    "data = u_evaluated.T[n_grid_points/2-10:n_grid_points/2+10,n_grid_points/2]\n",
    "plt.plot(data,'ro')\n",
    "x = np.arange(len(data))\n",
    "opts = np.polyfit(x,data,4)\n",
    "print(opts[1]/opts[2],opts) # 3阶与二阶的比值"
   ]
  },
  {
   "cell_type": "code",
   "execution_count": null,
   "metadata": {
    "collapsed": true
   },
   "outputs": [],
   "source": [
    "%%time\n",
    "import datetime\n",
    "print(datetime.datetime.now())\n",
    "\n",
    "n_grid_points = 150\n",
    "L = 50.0\n",
    "dL = L/n_grid_points\n",
    "plot_grid = np.mgrid[-L:L:n_grid_points*1j, -L:L:n_grid_points*1j,-L:L:n_grid_points*1j]\n",
    "points = np.vstack((plot_grid[0].ravel(),\n",
    "                    plot_grid[1].ravel(),\n",
    "                    plot_grid[2].ravel()))\n",
    "slp_pot = bempp.api.operators.potential.laplace.single_layer(\n",
    "    dp0_space, points)\n",
    "dlp_pot = bempp.api.operators.potential.laplace.double_layer(\n",
    "    p1_space, points)\n",
    "u_evaluated = slp_pot * neumann_fun - dlp_pot * dirichlet_fun\n",
    "\n",
    "print(datetime.datetime.now())"
   ]
  },
  {
   "cell_type": "code",
   "execution_count": null,
   "metadata": {
    "collapsed": true
   },
   "outputs": [],
   "source": [
    "u3D =u_evaluated.reshape(((n_grid_points,n_grid_points,n_grid_points)))\n",
    "Ex, Ey, Ez = np.gradient(u3D)"
   ]
  },
  {
   "cell_type": "code",
   "execution_count": 28,
   "metadata": {},
   "outputs": [
    {
     "data": {
      "text/plain": [
       "<matplotlib.colorbar.Colorbar at 0x7f51b1b32950>"
      ]
     },
     "execution_count": 28,
     "metadata": {},
     "output_type": "execute_result"
    },
    {
     "data": {
      "image/png": "[encoded data removed]",
      "text/plain": [
       "<matplotlib.figure.Figure at 0x7f51b2414550>"
      ]
     },
     "metadata": {},
     "output_type": "display_data"
    }
   ],
   "source": [
    "fig, axarr = plt.subplots(1,3,figsize=(15,3.6))\n",
    "\n",
    "from scipy.constants import m_n, m_p, m_u,e, electron_volt, pi\n",
    "from scipy import ndimage\n",
    "\n",
    "omega = 25e6*2*pi\n",
    "\n",
    "U_eff = e**2*(Ex**2+Ey**2+Ez**2)/(4*171*m_n*omega**2)/(dL*1e-6)**2 /electron_volt  # L unit is um \n",
    "\n",
    "ax,ay = np.mgrid[-L:L:n_grid_points*1j, -L:L:n_grid_points*1j]\n",
    "cmap = sns.diverging_palette(220, 20, n=7,as_cmap=True)\n",
    "\n",
    "\n",
    "# dat= ndimage.zoom(U_eff[25], 3)\n",
    "a = axarr[0].contourf(ax,ay,U_eff[25],cmap=cmap)\n",
    "axarr[0].grid()\n",
    "axarr[0].axis('equal')\n",
    "fig.colorbar(a, ax=axarr[0], shrink=0.9, format='%1.1e')\n",
    "\n",
    "a = axarr[1].contourf(ax,ay,U_eff[:,25,:],cmap=cmap)\n",
    "axarr[1].grid()\n",
    "axarr[1].axis('equal')\n",
    "fig.colorbar(a, ax=axarr[1], shrink=0.9, format='%1.1e')\n",
    "\n",
    "a = axarr[2].contourf(ax,ay,U_eff[:,:,25],cmap=cmap)\n",
    "axarr[2].grid()\n",
    "axarr[2].axis('equal')\n",
    "fig.colorbar(a, ax=axarr[2], shrink=0.9, format='%1.1e')\n",
    "\n",
    "# a = axarr[1].imshow(U_eff[:,25,:],cmap=cmap)\n",
    "# axarr[1].grid()\n",
    "\n",
    "# a = axarr[2].imshow(U_eff[:,:,25],cmap=cmap)\n",
    "# axarr[2].grid()\n",
    "# a.colorbar()\n"
   ]
  },
  {
   "cell_type": "code",
   "execution_count": 255,
   "metadata": {
    "collapsed": true
   },
   "outputs": [],
   "source": [
    "# change ticks\n",
    "\n",
    "# import numpy\n",
    "# import matplotlib.pyplot as plt\n",
    "\n",
    "# fig, (ax1, ax2) = plt.subplots(1,2)\n",
    "\n",
    "# x1, x2 = 1, 5\n",
    "# y1, y2 = 3, 7\n",
    "\n",
    "# # first axis: ticks spaced at 0.5\n",
    "# ax1.plot([x1, x2], [y1, y2])\n",
    "# ax1.set_xticks(numpy.arange(x1-1, x2+1, 0.5))\n",
    "# ax1.set_yticks(numpy.arange(y1-1, y2+1, 0.5))\n",
    "\n",
    "# # second axis: tick labels will be replaced\n",
    "# ax2.plot([x1, x2], [y1, y2])\n",
    "# ax2.set_xticks(numpy.arange(x1-1, x2+1, 0.5))\n",
    "# ax2.set_yticks(numpy.arange(y1-1, y2+1, 0.5))\n",
    "\n",
    "# # We need to draw the canvas, otherwise the labels won't be positioned and \n",
    "# # won't have values yet.\n",
    "# fig.canvas.draw()\n",
    "\n",
    "# # new x ticks  '1'->'', '1.5'->'1', '2'->'', '2.5'->'2' etc.\n",
    "# labels = [item.get_text() for item in ax2.get_xticklabels()]\n",
    "# new_labels = [ \"%d\" % int(float(l)) if '.5' in l else '' for l in labels]\n",
    "# ax2.set_xticklabels(new_labels)\n",
    "\n",
    "# # new y ticks\n",
    "# labels = [item.get_text() for item in ax2.get_yticklabels()]\n",
    "# new_labels = [ \"%d\" % int(float(l)) if '.5' in l else '' for l in labels]\n",
    "# ax2.set_yticklabels(new_labels)\n",
    "\n",
    "# fig.canvas.draw()\n",
    "# plt.show()"
   ]
  },
  {
   "cell_type": "code",
   "execution_count": 268,
   "metadata": {},
   "outputs": [
    {
     "data": {
      "text/plain": [
       "'0.18.1'"
      ]
     },
     "execution_count": 268,
     "metadata": {},
     "output_type": "execute_result"
    }
   ],
   "source": [
    "scipy.version.full_version"
   ]
  },
  {
   "cell_type": "code",
   "execution_count": 211,
   "metadata": {},
   "outputs": [
    {
     "data": {
      "text/plain": [
       "1.6021766208e-19"
      ]
     },
     "execution_count": 211,
     "metadata": {},
     "output_type": "execute_result"
    }
   ],
   "source": [
    "electron_volt"
   ]
  },
  {
   "cell_type": "code",
   "execution_count": null,
   "metadata": {},
   "outputs": [
    {
     "name": "stdout",
     "output_type": "stream",
     "text": [
      "\n",
      "Welcome to Python 2.7!  This is the online help utility.\n",
      "\n",
      "If this is your first time using Python, you should definitely check out\n",
      "the tutorial on the Internet at http://docs.python.org/2.7/tutorial/.\n",
      "\n",
      "Enter the name of any module, keyword, or topic to get help on writing\n",
      "Python programs and using Python modules.  To quit this help utility and\n",
      "return to the interpreter, just type \"quit\".\n",
      "\n",
      "To get a list of available modules, keywords, or topics, type \"modules\",\n",
      "\"keywords\", or \"topics\".  Each module also comes with a one-line summary\n",
      "of what it does; to list the modules whose summaries contain a given word\n",
      "such as \"spam\", type \"modules spam\".\n",
      "\n"
     ]
    }
   ],
   "source": [
    "help()"
   ]
  },
  {
   "cell_type": "code",
   "execution_count": null,
   "metadata": {
    "collapsed": true
   },
   "outputs": [],
   "source": []
  }
 ],
 "metadata": {
  "kernelspec": {
   "display_name": "Python 2",
   "language": "python",
   "name": "python2"
  },
  "language_info": {
   "codemirror_mode": {
    "name": "ipython",
    "version": 2
   },
   "file_extension": ".py",
   "mimetype": "text/x-python",
   "name": "python",
   "nbconvert_exporter": "python",
   "pygments_lexer": "ipython2",
   "version": "2.7.12"
  },
  "toc": {
   "colors": {
    "hover_highlight": "#DAA520",
    "navigate_num": "#000000",
    "navigate_text": "#333333",
    "running_highlight": "#FF0000",
    "selected_highlight": "#FFD700",
    "sidebar_border": "#EEEEEE",
    "wrapper_background": "#FFFFFF"
   },
   "moveMenuLeft": true,
   "nav_menu": {
    "height": "95px",
    "width": "252px"
   },
   "navigate_menu": true,
   "number_sections": true,
   "sideBar": true,
   "threshold": 4,
   "toc_cell": false,
   "toc_section_display": "block",
   "toc_window_display": true,
   "widenNotebook": false
  }
 },
 "nbformat": 4,
 "nbformat_minor": 1
}
